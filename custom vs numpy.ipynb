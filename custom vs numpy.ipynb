{
 "cells": [
  {
   "cell_type": "code",
   "execution_count": 2,
   "id": "e53bd7e6",
   "metadata": {},
   "outputs": [],
   "source": [
    "import numpy as np\n",
    "import pandas as pd\n",
    "import matplotlib.pyplot as plt"
   ]
  },
  {
   "cell_type": "code",
   "execution_count": 3,
   "id": "f1b5b203",
   "metadata": {},
   "outputs": [
    {
     "data": {
      "text/plain": [
       "array([ 0.49671415, -0.1382643 ,  0.64768854,  1.52302986, -0.23415337,\n",
       "       -0.23413696,  1.57921282,  0.76743473, -0.46947439,  0.54256004,\n",
       "       -0.46341769, -0.46572975,  0.24196227, -1.91328024, -1.72491783,\n",
       "       -0.56228753, -1.01283112,  0.31424733, -0.90802408, -1.4123037 ,\n",
       "        1.46564877, -0.2257763 ,  0.0675282 , -1.42474819, -0.54438272,\n",
       "        0.11092259, -1.15099358,  0.37569802, -0.60063869, -0.29169375,\n",
       "       -0.60170661,  1.85227818, -0.01349722, -1.05771093,  0.82254491,\n",
       "       -1.22084365,  0.2088636 , -1.95967012, -1.32818605,  0.19686124,\n",
       "        0.73846658,  0.17136828, -0.11564828, -0.3011037 , -1.47852199,\n",
       "       -0.71984421, -0.46063877,  1.05712223,  0.34361829, -1.76304016,\n",
       "        0.32408397, -0.38508228, -0.676922  ,  0.61167629,  1.03099952,\n",
       "        0.93128012, -0.83921752, -0.30921238,  0.33126343,  0.97554513,\n",
       "       -0.47917424, -0.18565898, -1.10633497, -1.19620662,  0.81252582,\n",
       "        1.35624003, -0.07201012,  1.0035329 ,  0.36163603, -0.64511975,\n",
       "        0.36139561,  1.53803657, -0.03582604,  1.56464366, -2.6197451 ,\n",
       "        0.8219025 ,  0.08704707, -0.29900735,  0.09176078, -1.98756891,\n",
       "       -0.21967189,  0.35711257,  1.47789404, -0.51827022, -0.8084936 ,\n",
       "       -0.50175704,  0.91540212,  0.32875111, -0.5297602 ,  0.51326743,\n",
       "        0.09707755,  0.96864499, -0.70205309, -0.32766215, -0.39210815,\n",
       "       -1.46351495,  0.29612028,  0.26105527,  0.00511346, -0.23458713])"
      ]
     },
     "execution_count": 3,
     "metadata": {},
     "output_type": "execute_result"
    }
   ],
   "source": [
    "np.random.seed(42)\n",
    "array = np.random.randn(100) # Return a sample (or samples) from the \"standard normal\" distribution\n",
    "array"
   ]
  },
  {
   "cell_type": "code",
   "execution_count": 4,
   "id": "9f3ba4a1",
   "metadata": {},
   "outputs": [
    {
     "data": {
      "text/plain": [
       "20"
      ]
     },
     "execution_count": 4,
     "metadata": {},
     "output_type": "execute_result"
    }
   ],
   "source": [
    "bins = np.linspace(-5, 5, 20)\n",
    "counts = np.zeros_like(bins) # initially all values 0\n",
    "counts.size"
   ]
  },
  {
   "cell_type": "code",
   "execution_count": 5,
   "id": "6377059b",
   "metadata": {},
   "outputs": [
    {
     "data": {
      "text/plain": [
       "array([0., 0., 0., 0., 0., 0., 0., 0., 0., 0., 0., 0., 0., 0., 0., 0., 0.,\n",
       "       0., 0., 0.])"
      ]
     },
     "execution_count": 5,
     "metadata": {},
     "output_type": "execute_result"
    }
   ],
   "source": [
    "counts"
   ]
  },
  {
   "cell_type": "code",
   "execution_count": 6,
   "id": "34ef8b5f",
   "metadata": {},
   "outputs": [
    {
     "data": {
      "text/plain": [
       "(100,)"
      ]
     },
     "execution_count": 6,
     "metadata": {},
     "output_type": "execute_result"
    }
   ],
   "source": [
    "# Пдходящий интервал для каждого элемента array\n",
    "i = np.searchsorted(bins, array) # [) : [-5, -3.47368421) = 0 index ....\n",
    "i.shape"
   ]
  },
  {
   "cell_type": "code",
   "execution_count": 7,
   "id": "20b976c1",
   "metadata": {},
   "outputs": [
    {
     "data": {
      "text/plain": [
       "array([11, 10, 11, 13, 10, 10, 13, 11,  9, 11,  9,  9, 10,  6,  7,  9,  8,\n",
       "       11,  8,  7, 13, 10, 10,  7,  9, 10,  8, 11,  9,  9,  9, 14, 10,  8,\n",
       "       12,  8, 10,  6,  7, 10, 11, 10, 10,  9,  7,  9,  9, 12, 11,  7, 11,\n",
       "        9,  9, 11, 12, 12,  8,  9, 11, 12,  9, 10,  8,  8, 12, 13, 10, 12,\n",
       "       11,  9, 11, 13, 10, 13,  5, 12, 10,  9, 10,  6, 10, 11, 13,  9,  8,\n",
       "        9, 12, 11,  9, 11, 10, 12,  9,  9,  9,  7, 11, 10, 10, 10],\n",
       "      dtype=int64)"
      ]
     },
     "execution_count": 7,
     "metadata": {},
     "output_type": "execute_result"
    }
   ],
   "source": [
    "i"
   ]
  },
  {
   "cell_type": "code",
   "execution_count": 8,
   "id": "64f8c94c",
   "metadata": {},
   "outputs": [
    {
     "data": {
      "text/plain": [
       "(array([-5.        , -4.47368421, -3.94736842, -3.42105263, -2.89473684,\n",
       "        -2.36842105, -1.84210526, -1.31578947, -0.78947368, -0.26315789,\n",
       "         0.26315789,  0.78947368,  1.31578947,  1.84210526,  2.36842105,\n",
       "         2.89473684,  3.42105263,  3.94736842,  4.47368421,  5.        ]),\n",
       " array([ 0.49671415, -0.1382643 ,  0.64768854,  1.52302986, -0.23415337,\n",
       "        -0.23413696,  1.57921282,  0.76743473, -0.46947439,  0.54256004,\n",
       "        -0.46341769, -0.46572975,  0.24196227, -1.91328024, -1.72491783,\n",
       "        -0.56228753, -1.01283112,  0.31424733, -0.90802408, -1.4123037 ,\n",
       "         1.46564877, -0.2257763 ,  0.0675282 , -1.42474819, -0.54438272,\n",
       "         0.11092259, -1.15099358,  0.37569802, -0.60063869, -0.29169375,\n",
       "        -0.60170661,  1.85227818, -0.01349722, -1.05771093,  0.82254491,\n",
       "        -1.22084365,  0.2088636 , -1.95967012, -1.32818605,  0.19686124,\n",
       "         0.73846658,  0.17136828, -0.11564828, -0.3011037 , -1.47852199,\n",
       "        -0.71984421, -0.46063877,  1.05712223,  0.34361829, -1.76304016,\n",
       "         0.32408397, -0.38508228, -0.676922  ,  0.61167629,  1.03099952,\n",
       "         0.93128012, -0.83921752, -0.30921238,  0.33126343,  0.97554513,\n",
       "        -0.47917424, -0.18565898, -1.10633497, -1.19620662,  0.81252582,\n",
       "         1.35624003, -0.07201012,  1.0035329 ,  0.36163603, -0.64511975,\n",
       "         0.36139561,  1.53803657, -0.03582604,  1.56464366, -2.6197451 ,\n",
       "         0.8219025 ,  0.08704707, -0.29900735,  0.09176078, -1.98756891,\n",
       "        -0.21967189,  0.35711257,  1.47789404, -0.51827022, -0.8084936 ,\n",
       "        -0.50175704,  0.91540212,  0.32875111, -0.5297602 ,  0.51326743,\n",
       "         0.09707755,  0.96864499, -0.70205309, -0.32766215, -0.39210815,\n",
       "        -1.46351495,  0.29612028,  0.26105527,  0.00511346, -0.23458713]))"
      ]
     },
     "execution_count": 8,
     "metadata": {},
     "output_type": "execute_result"
    }
   ],
   "source": [
    "bins, array"
   ]
  },
  {
   "cell_type": "code",
   "execution_count": 21,
   "id": "2f706eaf",
   "metadata": {},
   "outputs": [],
   "source": [
    "np.add.at(counts, i, 1) # iincrement value of initial values "
   ]
  },
  {
   "cell_type": "code",
   "execution_count": 30,
   "id": "9027e13d",
   "metadata": {},
   "outputs": [
    {
     "data": {
      "text/plain": [
       "[<matplotlib.lines.Line2D at 0x24287623580>]"
      ]
     },
     "execution_count": 30,
     "metadata": {},
     "output_type": "execute_result"
    },
    {
     "data": {
      "image/png": "[encoded data removed]",
      "text/plain": [
       "<Figure size 640x480 with 1 Axes>"
      ]
     },
     "metadata": {},
     "output_type": "display_data"
    }
   ],
   "source": [
    "plt.plot(bins, counts, linestyle='solid') # wooooowwww, reaaally normal distribution"
   ]
  },
  {
   "cell_type": "code",
   "execution_count": 31,
   "id": "99c736fd",
   "metadata": {},
   "outputs": [
    {
     "data": {
      "text/plain": [
       "(array([ 0.,  0.,  0.,  0.,  1.,  3.,  7.,  9., 23., 22., 17., 10.,  7.,\n",
       "         1.,  0.,  0.,  0.,  0.,  0.]),\n",
       " array([-5.        , -4.47368421, -3.94736842, -3.42105263, -2.89473684,\n",
       "        -2.36842105, -1.84210526, -1.31578947, -0.78947368, -0.26315789,\n",
       "         0.26315789,  0.78947368,  1.31578947,  1.84210526,  2.36842105,\n",
       "         2.89473684,  3.42105263,  3.94736842,  4.47368421,  5.        ]),\n",
       " [<matplotlib.patches.Polygon at 0x24286387bb0>])"
      ]
     },
     "execution_count": 31,
     "metadata": {},
     "output_type": "execute_result"
    },
    {
     "data": {
      "image/png": "[encoded data removed]",
      "text/plain": [
       "<Figure size 640x480 with 1 Axes>"
      ]
     },
     "metadata": {},
     "output_type": "display_data"
    }
   ],
   "source": [
    "# Но можно одной строчкой продемострировать гистограмму, нет необходимости писать above код:\n",
    "plt.hist(array, bins, histtype='step')"
   ]
  },
  {
   "cell_type": "markdown",
   "id": "96b91da9",
   "metadata": {},
   "source": [
    "# Разбиение по интервалам matplotlib использует `np.histogram`\n",
    "сравним быстроту? )"
   ]
  },
  {
   "cell_type": "code",
   "execution_count": 33,
   "id": "b579657b",
   "metadata": {},
   "outputs": [
    {
     "name": "stdout",
     "output_type": "stream",
     "text": [
      "Numpy routine:\n",
      "274 µs ± 56.1 µs per loop (mean ± std. dev. of 7 runs, 1000 loops each)\n",
      "Custom routine:\n",
      "108 µs ± 2.76 µs per loop (mean ± std. dev. of 7 runs, 10000 loops each)\n"
     ]
    }
   ],
   "source": [
    "print(\"Numpy routine:\")\n",
    "%timeit counts, edges = np.histogram(array, bins)\n",
    "\n",
    "print(\"Custom routine:\")\n",
    "%timeit np.add.at(counts, np.searchsorted(bins, array), 1)"
   ]
  },
  {
   "cell_type": "markdown",
   "id": "9b88c291",
   "metadata": {},
   "source": [
    "Кастомный алгоритм работает быстрее для мелких входных данных\n",
    "\n",
    "Но что если будет BIG DATA???"
   ]
  },
  {
   "cell_type": "code",
   "execution_count": 36,
   "id": "0c4a2d8c",
   "metadata": {},
   "outputs": [
    {
     "name": "stdout",
     "output_type": "stream",
     "text": [
      "Numpy routine:\n",
      "446 ms ± 53.1 ms per loop (mean ± std. dev. of 7 runs, 1 loop each)\n",
      "Custom routine:\n",
      "648 ms ± 22.9 ms per loop (mean ± std. dev. of 7 runs, 1 loop each)\n"
     ]
    }
   ],
   "source": [
    "x = np.random.randn(1000000)\n",
    "print(\"Numpy routine:\")\n",
    "%timeit counts, edges = np.histogram(x, bins)\n",
    "\n",
    "print(\"Custom routine:\")\n",
    "%timeit np.add.at(counts, np.searchsorted(bins, x), 1)"
   ]
  }
 ],
 "metadata": {
  "kernelspec": {
   "display_name": "Python 3 (ipykernel)",
   "language": "python",
   "name": "python3"
  },
  "language_info": {
   "codemirror_mode": {
    "name": "ipython",
    "version": 3
   },
   "file_extension": ".py",
   "mimetype": "text/x-python",
   "name": "python",
   "nbconvert_exporter": "python",
   "pygments_lexer": "ipython3",
   "version": "3.9.13"
  }
 },
 "nbformat": 4,
 "nbformat_minor": 5
}
