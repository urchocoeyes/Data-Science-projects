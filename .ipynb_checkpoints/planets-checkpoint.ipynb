{
 "cells": [
  {
   "cell_type": "code",
   "execution_count": 10,
   "id": "dcff20d9",
   "metadata": {},
   "outputs": [
    {
     "data": {
      "text/plain": [
       "(1035, 6)"
      ]
     },
     "execution_count": 10,
     "metadata": {},
     "output_type": "execute_result"
    }
   ],
   "source": [
    "import seaborn as sns\n",
    "import numpy as np\n",
    "import pandas as pd\n",
    "\n",
    "planets = sns.load_dataset('planets')\n",
    "planets.shape"
   ]
  },
  {
   "cell_type": "markdown",
   "id": "6049b3ff",
   "metadata": {},
   "source": [
    "`mean()`: Определяет центральное значение набора данных.\n",
    "\n",
    "`mad()`: Измеряет среднюю величину отклонений от центрального значения, давая представление о разбросе данных.\n",
    "\n",
    "### Среднее (mean)\n",
    "\n",
    "**Пример:**\n",
    "```python\n",
    "import pandas as pd\n",
    "\n",
    "data = pd.Series([1, 2, 3, 4, 5])\n",
    "mean_value = data.mean()\n",
    "print(\"Среднее значение:\", mean_value)\n",
    "```\n",
    "\n",
    "В данном примере среднее значение будет равно 3, так как (1+2+3+4+5)/5 = 3.\n",
    "\n",
    "### Среднее абсолютное отклонение (MAD)\n",
    "\n",
    "Среднее абсолютное отклонение (MAD) измеряет среднюю величину отклонений от среднего значения. В отличие от стандартного отклонения, MAD использует абсолютные значения отклонений, что делает его менее чувствительным к выбросам.\n",
    "\n",
    "**Пример:**\n",
    "```python\n",
    "import pandas as pd\n",
    "\n",
    "data = pd.Series([1, 2, 3, 4, 5])\n",
    "mad_value = data.mad()\n",
    "print(\"Среднее абсолютное отклонение:\", mad_value)\n",
    "```\n",
    "\n",
    "В данном примере сначала рассчитывается среднее значение (3), затем вычисляются абсолютные отклонения от среднего: [2, 1, 0, 1, 2], и, наконец, среднее этих отклонений: (2+1+0+1+2)/5 = 1.2.\n",
    "\n",
    "\n",
    "**Формула:**\n",
    "   - **mean()**: $\\text{mean} = \\frac{\\sum_{i=1}^{n} x_i}{n}$\n",
    "   - **mad()**: $\\text{MAD} = \\frac{\\sum_{i=1}^{n} |x_i - \\text{mean}|}{n}$\n"
   ]
  },
  {
   "cell_type": "code",
   "execution_count": 11,
   "id": "fa568862",
   "metadata": {},
   "outputs": [
    {
     "data": {
      "text/html": [
       "<div>\n",
       "<style scoped>\n",
       "    .dataframe tbody tr th:only-of-type {\n",
       "        vertical-align: middle;\n",
       "    }\n",
       "\n",
       "    .dataframe tbody tr th {\n",
       "        vertical-align: top;\n",
       "    }\n",
       "\n",
       "    .dataframe thead th {\n",
       "        text-align: right;\n",
       "    }\n",
       "</style>\n",
       "<table border=\"1\" class=\"dataframe\">\n",
       "  <thead>\n",
       "    <tr style=\"text-align: right;\">\n",
       "      <th></th>\n",
       "      <th>method</th>\n",
       "      <th>number</th>\n",
       "      <th>orbital_period</th>\n",
       "      <th>mass</th>\n",
       "      <th>distance</th>\n",
       "      <th>year</th>\n",
       "    </tr>\n",
       "  </thead>\n",
       "  <tbody>\n",
       "    <tr>\n",
       "      <th>0</th>\n",
       "      <td>Radial Velocity</td>\n",
       "      <td>1</td>\n",
       "      <td>269.300000</td>\n",
       "      <td>7.10</td>\n",
       "      <td>77.40</td>\n",
       "      <td>2006</td>\n",
       "    </tr>\n",
       "    <tr>\n",
       "      <th>1</th>\n",
       "      <td>Radial Velocity</td>\n",
       "      <td>1</td>\n",
       "      <td>874.774000</td>\n",
       "      <td>2.21</td>\n",
       "      <td>56.95</td>\n",
       "      <td>2008</td>\n",
       "    </tr>\n",
       "    <tr>\n",
       "      <th>2</th>\n",
       "      <td>Radial Velocity</td>\n",
       "      <td>1</td>\n",
       "      <td>763.000000</td>\n",
       "      <td>2.60</td>\n",
       "      <td>19.84</td>\n",
       "      <td>2011</td>\n",
       "    </tr>\n",
       "    <tr>\n",
       "      <th>3</th>\n",
       "      <td>Radial Velocity</td>\n",
       "      <td>1</td>\n",
       "      <td>326.030000</td>\n",
       "      <td>19.40</td>\n",
       "      <td>110.62</td>\n",
       "      <td>2007</td>\n",
       "    </tr>\n",
       "    <tr>\n",
       "      <th>4</th>\n",
       "      <td>Radial Velocity</td>\n",
       "      <td>1</td>\n",
       "      <td>516.220000</td>\n",
       "      <td>10.50</td>\n",
       "      <td>119.47</td>\n",
       "      <td>2009</td>\n",
       "    </tr>\n",
       "    <tr>\n",
       "      <th>...</th>\n",
       "      <td>...</td>\n",
       "      <td>...</td>\n",
       "      <td>...</td>\n",
       "      <td>...</td>\n",
       "      <td>...</td>\n",
       "      <td>...</td>\n",
       "    </tr>\n",
       "    <tr>\n",
       "      <th>1030</th>\n",
       "      <td>Transit</td>\n",
       "      <td>1</td>\n",
       "      <td>3.941507</td>\n",
       "      <td>NaN</td>\n",
       "      <td>172.00</td>\n",
       "      <td>2006</td>\n",
       "    </tr>\n",
       "    <tr>\n",
       "      <th>1031</th>\n",
       "      <td>Transit</td>\n",
       "      <td>1</td>\n",
       "      <td>2.615864</td>\n",
       "      <td>NaN</td>\n",
       "      <td>148.00</td>\n",
       "      <td>2007</td>\n",
       "    </tr>\n",
       "    <tr>\n",
       "      <th>1032</th>\n",
       "      <td>Transit</td>\n",
       "      <td>1</td>\n",
       "      <td>3.191524</td>\n",
       "      <td>NaN</td>\n",
       "      <td>174.00</td>\n",
       "      <td>2007</td>\n",
       "    </tr>\n",
       "    <tr>\n",
       "      <th>1033</th>\n",
       "      <td>Transit</td>\n",
       "      <td>1</td>\n",
       "      <td>4.125083</td>\n",
       "      <td>NaN</td>\n",
       "      <td>293.00</td>\n",
       "      <td>2008</td>\n",
       "    </tr>\n",
       "    <tr>\n",
       "      <th>1034</th>\n",
       "      <td>Transit</td>\n",
       "      <td>1</td>\n",
       "      <td>4.187757</td>\n",
       "      <td>NaN</td>\n",
       "      <td>260.00</td>\n",
       "      <td>2008</td>\n",
       "    </tr>\n",
       "  </tbody>\n",
       "</table>\n",
       "<p>1035 rows × 6 columns</p>\n",
       "</div>"
      ],
      "text/plain": [
       "               method  number  orbital_period   mass  distance  year\n",
       "0     Radial Velocity       1      269.300000   7.10     77.40  2006\n",
       "1     Radial Velocity       1      874.774000   2.21     56.95  2008\n",
       "2     Radial Velocity       1      763.000000   2.60     19.84  2011\n",
       "3     Radial Velocity       1      326.030000  19.40    110.62  2007\n",
       "4     Radial Velocity       1      516.220000  10.50    119.47  2009\n",
       "...               ...     ...             ...    ...       ...   ...\n",
       "1030          Transit       1        3.941507    NaN    172.00  2006\n",
       "1031          Transit       1        2.615864    NaN    148.00  2007\n",
       "1032          Transit       1        3.191524    NaN    174.00  2007\n",
       "1033          Transit       1        4.125083    NaN    293.00  2008\n",
       "1034          Transit       1        4.187757    NaN    260.00  2008\n",
       "\n",
       "[1035 rows x 6 columns]"
      ]
     },
     "execution_count": 11,
     "metadata": {},
     "output_type": "execute_result"
    }
   ],
   "source": [
    "planets"
   ]
  },
  {
   "cell_type": "code",
   "execution_count": 13,
   "id": "5ebe95b9",
   "metadata": {},
   "outputs": [
    {
     "data": {
      "text/plain": [
       "0    0.374540\n",
       "1    0.950714\n",
       "2    0.731994\n",
       "3    0.598658\n",
       "4    0.156019\n",
       "dtype: float64"
      ]
     },
     "execution_count": 13,
     "metadata": {},
     "output_type": "execute_result"
    }
   ],
   "source": [
    "random_state = np.random.RandomState(42)\n",
    "series = pd.Series(random_state.rand(5)) # iniform distributon\n",
    "series"
   ]
  },
  {
   "cell_type": "code",
   "execution_count": 14,
   "id": "bf47a83b",
   "metadata": {},
   "outputs": [
    {
     "data": {
      "text/plain": [
       "2.811925491708157"
      ]
     },
     "execution_count": 14,
     "metadata": {},
     "output_type": "execute_result"
    }
   ],
   "source": [
    "series.sum()"
   ]
  },
  {
   "cell_type": "code",
   "execution_count": 15,
   "id": "811509bc",
   "metadata": {},
   "outputs": [
    {
     "data": {
      "text/plain": [
       "0.5623850983416314"
      ]
     },
     "execution_count": 15,
     "metadata": {},
     "output_type": "execute_result"
    }
   ],
   "source": [
    "series.mean()"
   ]
  },
  {
   "cell_type": "code",
   "execution_count": 17,
   "id": "192a7ceb",
   "metadata": {},
   "outputs": [
    {
     "data": {
      "text/html": [
       "<div>\n",
       "<style scoped>\n",
       "    .dataframe tbody tr th:only-of-type {\n",
       "        vertical-align: middle;\n",
       "    }\n",
       "\n",
       "    .dataframe tbody tr th {\n",
       "        vertical-align: top;\n",
       "    }\n",
       "\n",
       "    .dataframe thead th {\n",
       "        text-align: right;\n",
       "    }\n",
       "</style>\n",
       "<table border=\"1\" class=\"dataframe\">\n",
       "  <thead>\n",
       "    <tr style=\"text-align: right;\">\n",
       "      <th></th>\n",
       "      <th>A</th>\n",
       "      <th>B</th>\n",
       "    </tr>\n",
       "  </thead>\n",
       "  <tbody>\n",
       "    <tr>\n",
       "      <th>0</th>\n",
       "      <td>0.155995</td>\n",
       "      <td>0.020584</td>\n",
       "    </tr>\n",
       "    <tr>\n",
       "      <th>1</th>\n",
       "      <td>0.058084</td>\n",
       "      <td>0.969910</td>\n",
       "    </tr>\n",
       "    <tr>\n",
       "      <th>2</th>\n",
       "      <td>0.866176</td>\n",
       "      <td>0.832443</td>\n",
       "    </tr>\n",
       "    <tr>\n",
       "      <th>3</th>\n",
       "      <td>0.601115</td>\n",
       "      <td>0.212339</td>\n",
       "    </tr>\n",
       "    <tr>\n",
       "      <th>4</th>\n",
       "      <td>0.708073</td>\n",
       "      <td>0.181825</td>\n",
       "    </tr>\n",
       "  </tbody>\n",
       "</table>\n",
       "</div>"
      ],
      "text/plain": [
       "          A         B\n",
       "0  0.155995  0.020584\n",
       "1  0.058084  0.969910\n",
       "2  0.866176  0.832443\n",
       "3  0.601115  0.212339\n",
       "4  0.708073  0.181825"
      ]
     },
     "execution_count": 17,
     "metadata": {},
     "output_type": "execute_result"
    }
   ],
   "source": [
    "df = pd.DataFrame({'A': random_state.rand(5),\n",
    "                  'B': random_state.rand(5)})\n",
    "df"
   ]
  },
  {
   "cell_type": "code",
   "execution_count": 20,
   "id": "153a137d",
   "metadata": {},
   "outputs": [
    {
     "data": {
      "text/plain": [
       "0.46065429329621876"
      ]
     },
     "execution_count": 20,
     "metadata": {},
     "output_type": "execute_result"
    }
   ],
   "source": [
    "(df.mean()['A'] + df.mean()['B']) / 2"
   ]
  },
  {
   "cell_type": "code",
   "execution_count": 21,
   "id": "b6c2a20d",
   "metadata": {},
   "outputs": [
    {
     "data": {
      "text/plain": [
       "A    0.477888\n",
       "B    0.443420\n",
       "dtype: float64"
      ]
     },
     "execution_count": 21,
     "metadata": {},
     "output_type": "execute_result"
    }
   ],
   "source": [
    "df.mean()"
   ]
  },
  {
   "cell_type": "code",
   "execution_count": 22,
   "id": "3c7fdcfc",
   "metadata": {},
   "outputs": [
    {
     "data": {
      "text/plain": [
       "0    0.088290\n",
       "1    0.513997\n",
       "2    0.849309\n",
       "3    0.406727\n",
       "4    0.444949\n",
       "dtype: float64"
      ]
     },
     "execution_count": 22,
     "metadata": {},
     "output_type": "execute_result"
    }
   ],
   "source": [
    "df.mean(axis=1) # by rows, axis='columns'"
   ]
  },
  {
   "cell_type": "code",
   "execution_count": 23,
   "id": "d588dfd7",
   "metadata": {},
   "outputs": [
    {
     "data": {
      "text/html": [
       "<div>\n",
       "<style scoped>\n",
       "    .dataframe tbody tr th:only-of-type {\n",
       "        vertical-align: middle;\n",
       "    }\n",
       "\n",
       "    .dataframe tbody tr th {\n",
       "        vertical-align: top;\n",
       "    }\n",
       "\n",
       "    .dataframe thead th {\n",
       "        text-align: right;\n",
       "    }\n",
       "</style>\n",
       "<table border=\"1\" class=\"dataframe\">\n",
       "  <thead>\n",
       "    <tr style=\"text-align: right;\">\n",
       "      <th></th>\n",
       "      <th>number</th>\n",
       "      <th>orbital_period</th>\n",
       "      <th>mass</th>\n",
       "      <th>distance</th>\n",
       "      <th>year</th>\n",
       "    </tr>\n",
       "  </thead>\n",
       "  <tbody>\n",
       "    <tr>\n",
       "      <th>count</th>\n",
       "      <td>1035.000000</td>\n",
       "      <td>992.000000</td>\n",
       "      <td>513.000000</td>\n",
       "      <td>808.000000</td>\n",
       "      <td>1035.000000</td>\n",
       "    </tr>\n",
       "    <tr>\n",
       "      <th>mean</th>\n",
       "      <td>1.785507</td>\n",
       "      <td>2002.917596</td>\n",
       "      <td>2.638161</td>\n",
       "      <td>264.069282</td>\n",
       "      <td>2009.070531</td>\n",
       "    </tr>\n",
       "    <tr>\n",
       "      <th>std</th>\n",
       "      <td>1.240976</td>\n",
       "      <td>26014.728304</td>\n",
       "      <td>3.818617</td>\n",
       "      <td>733.116493</td>\n",
       "      <td>3.972567</td>\n",
       "    </tr>\n",
       "    <tr>\n",
       "      <th>min</th>\n",
       "      <td>1.000000</td>\n",
       "      <td>0.090706</td>\n",
       "      <td>0.003600</td>\n",
       "      <td>1.350000</td>\n",
       "      <td>1989.000000</td>\n",
       "    </tr>\n",
       "    <tr>\n",
       "      <th>25%</th>\n",
       "      <td>1.000000</td>\n",
       "      <td>5.442540</td>\n",
       "      <td>0.229000</td>\n",
       "      <td>32.560000</td>\n",
       "      <td>2007.000000</td>\n",
       "    </tr>\n",
       "    <tr>\n",
       "      <th>50%</th>\n",
       "      <td>1.000000</td>\n",
       "      <td>39.979500</td>\n",
       "      <td>1.260000</td>\n",
       "      <td>55.250000</td>\n",
       "      <td>2010.000000</td>\n",
       "    </tr>\n",
       "    <tr>\n",
       "      <th>75%</th>\n",
       "      <td>2.000000</td>\n",
       "      <td>526.005000</td>\n",
       "      <td>3.040000</td>\n",
       "      <td>178.500000</td>\n",
       "      <td>2012.000000</td>\n",
       "    </tr>\n",
       "    <tr>\n",
       "      <th>max</th>\n",
       "      <td>7.000000</td>\n",
       "      <td>730000.000000</td>\n",
       "      <td>25.000000</td>\n",
       "      <td>8500.000000</td>\n",
       "      <td>2014.000000</td>\n",
       "    </tr>\n",
       "  </tbody>\n",
       "</table>\n",
       "</div>"
      ],
      "text/plain": [
       "            number  orbital_period        mass     distance         year\n",
       "count  1035.000000      992.000000  513.000000   808.000000  1035.000000\n",
       "mean      1.785507     2002.917596    2.638161   264.069282  2009.070531\n",
       "std       1.240976    26014.728304    3.818617   733.116493     3.972567\n",
       "min       1.000000        0.090706    0.003600     1.350000  1989.000000\n",
       "25%       1.000000        5.442540    0.229000    32.560000  2007.000000\n",
       "50%       1.000000       39.979500    1.260000    55.250000  2010.000000\n",
       "75%       2.000000      526.005000    3.040000   178.500000  2012.000000\n",
       "max       7.000000   730000.000000   25.000000  8500.000000  2014.000000"
      ]
     },
     "execution_count": 23,
     "metadata": {},
     "output_type": "execute_result"
    }
   ],
   "source": [
    "planets.describe() # with not applicable "
   ]
  },
  {
   "cell_type": "code",
   "execution_count": 25,
   "id": "8932f284",
   "metadata": {},
   "outputs": [
    {
     "data": {
      "text/html": [
       "<div>\n",
       "<style scoped>\n",
       "    .dataframe tbody tr th:only-of-type {\n",
       "        vertical-align: middle;\n",
       "    }\n",
       "\n",
       "    .dataframe tbody tr th {\n",
       "        vertical-align: top;\n",
       "    }\n",
       "\n",
       "    .dataframe thead th {\n",
       "        text-align: right;\n",
       "    }\n",
       "</style>\n",
       "<table border=\"1\" class=\"dataframe\">\n",
       "  <thead>\n",
       "    <tr style=\"text-align: right;\">\n",
       "      <th></th>\n",
       "      <th>number</th>\n",
       "      <th>orbital_period</th>\n",
       "      <th>mass</th>\n",
       "      <th>distance</th>\n",
       "      <th>year</th>\n",
       "    </tr>\n",
       "  </thead>\n",
       "  <tbody>\n",
       "    <tr>\n",
       "      <th>count</th>\n",
       "      <td>498.00000</td>\n",
       "      <td>498.000000</td>\n",
       "      <td>498.000000</td>\n",
       "      <td>498.000000</td>\n",
       "      <td>498.000000</td>\n",
       "    </tr>\n",
       "    <tr>\n",
       "      <th>mean</th>\n",
       "      <td>1.73494</td>\n",
       "      <td>835.778671</td>\n",
       "      <td>2.509320</td>\n",
       "      <td>52.068213</td>\n",
       "      <td>2007.377510</td>\n",
       "    </tr>\n",
       "    <tr>\n",
       "      <th>std</th>\n",
       "      <td>1.17572</td>\n",
       "      <td>1469.128259</td>\n",
       "      <td>3.636274</td>\n",
       "      <td>46.596041</td>\n",
       "      <td>4.167284</td>\n",
       "    </tr>\n",
       "    <tr>\n",
       "      <th>min</th>\n",
       "      <td>1.00000</td>\n",
       "      <td>1.328300</td>\n",
       "      <td>0.003600</td>\n",
       "      <td>1.350000</td>\n",
       "      <td>1989.000000</td>\n",
       "    </tr>\n",
       "    <tr>\n",
       "      <th>25%</th>\n",
       "      <td>1.00000</td>\n",
       "      <td>38.272250</td>\n",
       "      <td>0.212500</td>\n",
       "      <td>24.497500</td>\n",
       "      <td>2005.000000</td>\n",
       "    </tr>\n",
       "    <tr>\n",
       "      <th>50%</th>\n",
       "      <td>1.00000</td>\n",
       "      <td>357.000000</td>\n",
       "      <td>1.245000</td>\n",
       "      <td>39.940000</td>\n",
       "      <td>2009.000000</td>\n",
       "    </tr>\n",
       "    <tr>\n",
       "      <th>75%</th>\n",
       "      <td>2.00000</td>\n",
       "      <td>999.600000</td>\n",
       "      <td>2.867500</td>\n",
       "      <td>59.332500</td>\n",
       "      <td>2011.000000</td>\n",
       "    </tr>\n",
       "    <tr>\n",
       "      <th>max</th>\n",
       "      <td>6.00000</td>\n",
       "      <td>17337.500000</td>\n",
       "      <td>25.000000</td>\n",
       "      <td>354.000000</td>\n",
       "      <td>2014.000000</td>\n",
       "    </tr>\n",
       "  </tbody>\n",
       "</table>\n",
       "</div>"
      ],
      "text/plain": [
       "          number  orbital_period        mass    distance         year\n",
       "count  498.00000      498.000000  498.000000  498.000000   498.000000\n",
       "mean     1.73494      835.778671    2.509320   52.068213  2007.377510\n",
       "std      1.17572     1469.128259    3.636274   46.596041     4.167284\n",
       "min      1.00000        1.328300    0.003600    1.350000  1989.000000\n",
       "25%      1.00000       38.272250    0.212500   24.497500  2005.000000\n",
       "50%      1.00000      357.000000    1.245000   39.940000  2009.000000\n",
       "75%      2.00000      999.600000    2.867500   59.332500  2011.000000\n",
       "max      6.00000    17337.500000   25.000000  354.000000  2014.000000"
      ]
     },
     "execution_count": 25,
     "metadata": {},
     "output_type": "execute_result"
    }
   ],
   "source": [
    "planets.dropna().describe()"
   ]
  },
  {
   "cell_type": "code",
   "execution_count": 26,
   "id": "cd04a224",
   "metadata": {},
   "outputs": [
    {
     "data": {
      "text/plain": [
       "method            498\n",
       "number            498\n",
       "orbital_period    498\n",
       "mass              498\n",
       "distance          498\n",
       "year              498\n",
       "dtype: int64"
      ]
     },
     "execution_count": 26,
     "metadata": {},
     "output_type": "execute_result"
    }
   ],
   "source": [
    "planets.dropna().count() # общее кол во элементов"
   ]
  },
  {
   "cell_type": "code",
   "execution_count": 29,
   "id": "50eff735",
   "metadata": {},
   "outputs": [
    {
     "name": "stderr",
     "output_type": "stream",
     "text": [
      "C:\\Users\\acer\\AppData\\Local\\Temp\\ipykernel_10088\\112502261.py:1: FutureWarning: Dropping of nuisance columns in DataFrame reductions (with 'numeric_only=None') is deprecated; in a future version this will raise TypeError.  Select only valid columns before calling the reduction.\n",
      "  planets.dropna().mean()\n"
     ]
    },
    {
     "data": {
      "text/plain": [
       "number               1.734940\n",
       "orbital_period     835.778671\n",
       "mass                 2.509320\n",
       "distance            52.068213\n",
       "year              2007.377510\n",
       "dtype: float64"
      ]
     },
     "execution_count": 29,
     "metadata": {},
     "output_type": "execute_result"
    }
   ],
   "source": [
    "planets.dropna().mean()"
   ]
  },
  {
   "cell_type": "code",
   "execution_count": 30,
   "id": "a07ba22a",
   "metadata": {},
   "outputs": [
    {
     "name": "stderr",
     "output_type": "stream",
     "text": [
      "C:\\Users\\acer\\AppData\\Local\\Temp\\ipykernel_10088\\2125708026.py:1: FutureWarning: Dropping of nuisance columns in DataFrame reductions (with 'numeric_only=None') is deprecated; in a future version this will raise TypeError.  Select only valid columns before calling the reduction.\n",
      "  planets.dropna().median()\n"
     ]
    },
    {
     "data": {
      "text/plain": [
       "number               1.000\n",
       "orbital_period     357.000\n",
       "mass                 1.245\n",
       "distance            39.940\n",
       "year              2009.000\n",
       "dtype: float64"
      ]
     },
     "execution_count": 30,
     "metadata": {},
     "output_type": "execute_result"
    }
   ],
   "source": [
    "planets.dropna().median()"
   ]
  },
  {
   "cell_type": "code",
   "execution_count": 31,
   "id": "d6a9b520",
   "metadata": {},
   "outputs": [
    {
     "data": {
      "text/plain": [
       "method            Radial Velocity\n",
       "number                          1\n",
       "orbital_period             1.3283\n",
       "mass                       0.0036\n",
       "distance                     1.35\n",
       "year                         1989\n",
       "dtype: object"
      ]
     },
     "execution_count": 31,
     "metadata": {},
     "output_type": "execute_result"
    }
   ],
   "source": [
    "planets.dropna().min()"
   ]
  },
  {
   "cell_type": "code",
   "execution_count": 32,
   "id": "eb1cda67",
   "metadata": {},
   "outputs": [
    {
     "data": {
      "text/plain": [
       "method            Transit\n",
       "number                  6\n",
       "orbital_period    17337.5\n",
       "mass                 25.0\n",
       "distance            354.0\n",
       "year                 2014\n",
       "dtype: object"
      ]
     },
     "execution_count": 32,
     "metadata": {},
     "output_type": "execute_result"
    }
   ],
   "source": [
    "planets.dropna().max()"
   ]
  },
  {
   "cell_type": "code",
   "execution_count": 33,
   "id": "70c0dd1d",
   "metadata": {},
   "outputs": [
    {
     "name": "stderr",
     "output_type": "stream",
     "text": [
      "C:\\Users\\acer\\AppData\\Local\\Temp\\ipykernel_10088\\2296624108.py:1: FutureWarning: Dropping of nuisance columns in DataFrame reductions (with 'numeric_only=None') is deprecated; in a future version this will raise TypeError.  Select only valid columns before calling the reduction.\n",
      "  planets.dropna().std()\n"
     ]
    },
    {
     "data": {
      "text/plain": [
       "number               1.175720\n",
       "orbital_period    1469.128259\n",
       "mass                 3.636274\n",
       "distance            46.596041\n",
       "year                 4.167284\n",
       "dtype: float64"
      ]
     },
     "execution_count": 33,
     "metadata": {},
     "output_type": "execute_result"
    }
   ],
   "source": [
    "planets.dropna().std() # stabdard deviation"
   ]
  },
  {
   "cell_type": "code",
   "execution_count": 34,
   "id": "2d174d82",
   "metadata": {},
   "outputs": [
    {
     "name": "stderr",
     "output_type": "stream",
     "text": [
      "C:\\Users\\acer\\AppData\\Local\\Temp\\ipykernel_10088\\956084718.py:1: FutureWarning: Dropping of nuisance columns in DataFrame reductions (with 'numeric_only=None') is deprecated; in a future version this will raise TypeError.  Select only valid columns before calling the reduction.\n",
      "  planets.dropna().var() # variance\n"
     ]
    },
    {
     "data": {
      "text/plain": [
       "number            1.382318e+00\n",
       "orbital_period    2.158338e+06\n",
       "mass              1.322249e+01\n",
       "distance          2.171191e+03\n",
       "year              1.736625e+01\n",
       "dtype: float64"
      ]
     },
     "execution_count": 34,
     "metadata": {},
     "output_type": "execute_result"
    }
   ],
   "source": [
    "planets.dropna().var() # variance"
   ]
  },
  {
   "cell_type": "code",
   "execution_count": 35,
   "id": "04b908dd",
   "metadata": {},
   "outputs": [
    {
     "data": {
      "text/plain": [
       "number              0.867760\n",
       "orbital_period    863.505805\n",
       "mass                2.439216\n",
       "distance           30.492406\n",
       "year                3.439767\n",
       "dtype: float64"
      ]
     },
     "execution_count": 35,
     "metadata": {},
     "output_type": "execute_result"
    }
   ],
   "source": [
    "planets.dropna().mad() # среднее абсолютное отклонение"
   ]
  },
  {
   "cell_type": "markdown",
   "id": "b7cadfc0",
   "metadata": {},
   "source": []
  },
  {
   "cell_type": "code",
   "execution_count": 36,
   "id": "39fb9096",
   "metadata": {},
   "outputs": [
    {
     "name": "stderr",
     "output_type": "stream",
     "text": [
      "C:\\Users\\acer\\anaconda3\\lib\\site-packages\\numpy\\core\\_methods.py:52: RuntimeWarning: overflow encountered in reduce\n",
      "  return umr_prod(a, axis, dtype, out, keepdims, initial, where)\n",
      "C:\\Users\\acer\\AppData\\Local\\Temp\\ipykernel_10088\\2691243343.py:1: FutureWarning: Dropping of nuisance columns in DataFrame reductions (with 'numeric_only=None') is deprecated; in a future version this will raise TypeError.  Select only valid columns before calling the reduction.\n",
      "  planets.dropna().prod()\n"
     ]
    },
    {
     "data": {
      "text/plain": [
       "number            0.000000e+00\n",
       "orbital_period             inf\n",
       "mass              1.521982e-68\n",
       "distance                   inf\n",
       "year              0.000000e+00\n",
       "dtype: float64"
      ]
     },
     "execution_count": 36,
     "metadata": {},
     "output_type": "execute_result"
    }
   ],
   "source": [
    "planets.dropna().prod()"
   ]
  },
  {
   "cell_type": "code",
   "execution_count": 37,
   "id": "15b52aaa",
   "metadata": {},
   "outputs": [
    {
     "data": {
      "text/plain": [
       "method            Radial VelocityRadial VelocityRadial VelocityR...\n",
       "number                                                          864\n",
       "orbital_period                                        416217.777994\n",
       "mass                                                     1249.64138\n",
       "distance                                                   25929.97\n",
       "year                                                         999674\n",
       "dtype: object"
      ]
     },
     "execution_count": 37,
     "metadata": {},
     "output_type": "execute_result"
    }
   ],
   "source": [
    "planets.dropna().sum()"
   ]
  },
  {
   "cell_type": "code",
   "execution_count": 39,
   "id": "66a07f73",
   "metadata": {},
   "outputs": [
    {
     "data": {
      "text/plain": [
       "<pandas.core.groupby.generic.DataFrameGroupBy object at 0x000001CA0ABC2C40>"
      ]
     },
     "execution_count": 39,
     "metadata": {},
     "output_type": "execute_result"
    }
   ],
   "source": [
    "planets.groupby('method')"
   ]
  },
  {
   "cell_type": "code",
   "execution_count": 40,
   "id": "5a6e9beb",
   "metadata": {},
   "outputs": [
    {
     "data": {
      "text/plain": [
       "<pandas.core.groupby.generic.SeriesGroupBy object at 0x000001CA0AA83550>"
      ]
     },
     "execution_count": 40,
     "metadata": {},
     "output_type": "execute_result"
    }
   ],
   "source": [
    "planets.groupby('method')['orbital_period']"
   ]
  },
  {
   "cell_type": "code",
   "execution_count": 43,
   "id": "a230bc09",
   "metadata": {},
   "outputs": [
    {
     "data": {
      "text/plain": [
       "method\n",
       "Astrometry                         631.180000\n",
       "Eclipse Timing Variations         4343.500000\n",
       "Imaging                          27500.000000\n",
       "Microlensing                      3300.000000\n",
       "Orbital Brightness Modulation        0.342887\n",
       "Pulsar Timing                       66.541900\n",
       "Pulsation Timing Variations       1170.000000\n",
       "Radial Velocity                    360.200000\n",
       "Transit                              5.714932\n",
       "Transit Timing Variations           57.011000\n",
       "Name: orbital_period, dtype: float64"
      ]
     },
     "execution_count": 43,
     "metadata": {},
     "output_type": "execute_result"
    }
   ],
   "source": [
    "planets.groupby('method')['orbital_period'].median()"
   ]
  },
  {
   "cell_type": "code",
   "execution_count": 48,
   "id": "518040c3",
   "metadata": {
    "scrolled": false
   },
   "outputs": [
    {
     "name": "stdout",
     "output_type": "stream",
     "text": [
      "Astrometry group=         method  number  orbital_period  mass  distance  year\n",
      "113  Astrometry       1          246.36   NaN     20.77  2013\n",
      "537  Astrometry       1         1016.00   NaN     14.98  2010\n",
      "\n",
      "Eclipse Timing Variations group=                       method  number  orbital_period  mass  distance  year\n",
      "32  Eclipse Timing Variations       1        10220.00  6.05       NaN  2009\n",
      "37  Eclipse Timing Variations       2         5767.00   NaN    130.72  2008\n",
      "38  Eclipse Timing Variations       2         3321.00   NaN    130.72  2008\n",
      "39  Eclipse Timing Variations       2         5573.55   NaN    500.00  2010\n",
      "40  Eclipse Timing Variations       2         2883.50   NaN    500.00  2010\n",
      "41  Eclipse Timing Variations       1         2900.00   NaN       NaN  2011\n",
      "42  Eclipse Timing Variations       1         4343.50  4.20       NaN  2012\n",
      "43  Eclipse Timing Variations       2         5840.00   NaN       NaN  2011\n",
      "44  Eclipse Timing Variations       2         1916.25   NaN       NaN  2011\n",
      "\n",
      "Imaging group=       method  number  orbital_period  mass  distance  year\n",
      "29    Imaging       1             NaN   NaN     45.52  2005\n",
      "30    Imaging       1             NaN   NaN    165.00  2007\n",
      "31    Imaging       1             NaN   NaN    140.00  2004\n",
      "33    Imaging       1             NaN   NaN       NaN  2008\n",
      "34    Imaging       1             NaN   NaN    145.00  2013\n",
      "35    Imaging       1             NaN   NaN    139.00  2004\n",
      "36    Imaging       1             NaN   NaN     18.39  2006\n",
      "47    Imaging       1         6000.00   NaN     19.28  2008\n",
      "54    Imaging       1             NaN   NaN     52.03  2012\n",
      "68    Imaging       1       318280.00   NaN      7.69  2008\n",
      "69    Imaging       1             NaN   NaN    145.00  2008\n",
      "70    Imaging       1             NaN   NaN     36.00  2013\n",
      "71    Imaging       1             NaN   NaN    140.00  2010\n",
      "72    Imaging       1         4639.15   NaN     12.21  2009\n",
      "73    Imaging       1             NaN   NaN     52.40  2004\n",
      "74    Imaging       1         7336.50   NaN     25.00  2009\n",
      "75    Imaging       1         8679.70   NaN     26.67  2009\n",
      "89    Imaging       1        10037.50   NaN     23.10  2011\n",
      "90    Imaging       1             NaN   NaN       NaN  2006\n",
      "124   Imaging       1             NaN   NaN     17.95  2013\n",
      "150   Imaging       1             NaN   NaN    145.00  2010\n",
      "392   Imaging       1             NaN   NaN     91.57  2013\n",
      "423   Imaging       1             NaN   NaN     91.83  2013\n",
      "577   Imaging       1             NaN   NaN     40.85  2006\n",
      "635   Imaging       1             NaN   NaN     11.43  2010\n",
      "639   Imaging       1             NaN   NaN    131.93  2010\n",
      "643   Imaging       4       170000.00   NaN     39.94  2008\n",
      "644   Imaging       4        69000.00   NaN     39.94  2008\n",
      "645   Imaging       4        37000.00   NaN     39.94  2008\n",
      "646   Imaging       4        18000.00   NaN     39.94  2010\n",
      "900   Imaging       1        40000.00   NaN       NaN  2011\n",
      "937   Imaging       1       730000.00   NaN       NaN  2006\n",
      "948   Imaging       1             NaN   NaN    135.00  2013\n",
      "949   Imaging       1             NaN   NaN    120.00  2013\n",
      "950   Imaging       1             NaN   NaN       NaN  2010\n",
      "957   Imaging       1             NaN   NaN       NaN  2008\n",
      "1027  Imaging       1             NaN   NaN     19.20  2011\n",
      "1029  Imaging       1             NaN   NaN     10.10  2012\n",
      "\n",
      "Microlensing group=           method  number  orbital_period  mass  distance  year\n",
      "902  Microlensing       1             NaN   NaN       NaN  2008\n",
      "903  Microlensing       1             NaN   NaN       NaN  2008\n",
      "904  Microlensing       1             NaN   NaN       NaN  2009\n",
      "905  Microlensing       1             NaN   NaN    3600.0  2013\n",
      "906  Microlensing       1          2780.0   NaN       NaN  2011\n",
      "907  Microlensing       1             NaN   NaN       NaN  2010\n",
      "908  Microlensing       1          1970.0   NaN       NaN  2010\n",
      "909  Microlensing       1             NaN   NaN    2300.0  2012\n",
      "910  Microlensing       1             NaN   NaN    2800.0  2012\n",
      "911  Microlensing       1             NaN   NaN    7720.0  2012\n",
      "912  Microlensing       1             NaN   NaN    7560.0  2013\n",
      "917  Microlensing       1             NaN   NaN       NaN  2004\n",
      "918  Microlensing       1          3600.0   NaN       NaN  2005\n",
      "919  Microlensing       1          3300.0   NaN       NaN  2006\n",
      "920  Microlensing       1          3500.0   NaN       NaN  2005\n",
      "921  Microlensing       2          1825.0   NaN       NaN  2008\n",
      "922  Microlensing       2          5100.0   NaN       NaN  2008\n",
      "923  Microlensing       1             NaN   NaN       NaN  2009\n",
      "924  Microlensing       1             NaN   NaN    2570.0  2012\n",
      "925  Microlensing       2             NaN   NaN    4080.0  2012\n",
      "926  Microlensing       2             NaN   NaN    4080.0  2012\n",
      "927  Microlensing       1             NaN   NaN    1760.0  2013\n",
      "928  Microlensing       1             NaN   NaN    4970.0  2013\n",
      "\n",
      "Orbital Brightness Modulation group=                            method  number  orbital_period  mass  distance  \\\n",
      "787  Orbital Brightness Modulation       2        0.240104   NaN    1180.0   \n",
      "788  Orbital Brightness Modulation       2        0.342887   NaN    1180.0   \n",
      "792  Orbital Brightness Modulation       1        1.544929   NaN       NaN   \n",
      "\n",
      "     year  \n",
      "787  2011  \n",
      "788  2011  \n",
      "792  2013  \n",
      "\n",
      "Pulsar Timing group=            method  number  orbital_period  mass  distance  year\n",
      "941  Pulsar Timing       3       25.262000   NaN       NaN  1992\n",
      "942  Pulsar Timing       3       66.541900   NaN       NaN  1992\n",
      "943  Pulsar Timing       3       98.211400   NaN       NaN  1994\n",
      "944  Pulsar Timing       1    36525.000000   NaN       NaN  2003\n",
      "945  Pulsar Timing       1        0.090706   NaN    1200.0  2011\n",
      "\n",
      "Pulsation Timing Variations group=                          method  number  orbital_period  mass  distance  year\n",
      "958  Pulsation Timing Variations       1          1170.0   NaN       NaN  2007\n",
      "\n",
      "Radial Velocity group=              method  number  orbital_period   mass  distance  year\n",
      "0    Radial Velocity       1        269.3000   7.10     77.40  2006\n",
      "1    Radial Velocity       1        874.7740   2.21     56.95  2008\n",
      "2    Radial Velocity       1        763.0000   2.60     19.84  2011\n",
      "3    Radial Velocity       1        326.0300  19.40    110.62  2007\n",
      "4    Radial Velocity       1        516.2200  10.50    119.47  2009\n",
      "..               ...     ...             ...    ...       ...   ...\n",
      "914  Radial Velocity       1          6.9580   0.34       NaN  2014\n",
      "915  Radial Velocity       1          5.1180   0.40       NaN  2014\n",
      "916  Radial Velocity       1        121.7100   1.54       NaN  2014\n",
      "939  Radial Velocity       1          4.4264    NaN       NaN  2012\n",
      "940  Radial Velocity       1          2.1451    NaN       NaN  2012\n",
      "\n",
      "[553 rows x 6 columns]\n",
      "\n",
      "Transit group=       method  number  orbital_period  mass  distance  year\n",
      "91    Transit       1        1.508956   NaN       NaN  2008\n",
      "92    Transit       1        1.742994   NaN     200.0  2008\n",
      "93    Transit       1        4.256800   NaN     680.0  2008\n",
      "94    Transit       1        9.202050   NaN       NaN  2008\n",
      "95    Transit       1        4.037896   NaN       NaN  2009\n",
      "...       ...     ...             ...   ...       ...   ...\n",
      "1030  Transit       1        3.941507   NaN     172.0  2006\n",
      "1031  Transit       1        2.615864   NaN     148.0  2007\n",
      "1032  Transit       1        3.191524   NaN     174.0  2007\n",
      "1033  Transit       1        4.125083   NaN     293.0  2008\n",
      "1034  Transit       1        4.187757   NaN     260.0  2008\n",
      "\n",
      "[397 rows x 6 columns]\n",
      "\n",
      "Transit Timing Variations group=                        method  number  orbital_period  mass  distance  year\n",
      "680  Transit Timing Variations       2        160.0000   NaN    2119.0  2011\n",
      "736  Transit Timing Variations       2         57.0110   NaN     855.0  2012\n",
      "749  Transit Timing Variations       3             NaN   NaN       NaN  2014\n",
      "813  Transit Timing Variations       2         22.3395   NaN     339.0  2013\n",
      "\n"
     ]
    }
   ],
   "source": [
    "for (method, group) in planets.groupby('method'):\n",
    "    print(\"{0} group={1}\\n\".format(method, group))"
   ]
  },
  {
   "cell_type": "code",
   "execution_count": 51,
   "id": "4070680f",
   "metadata": {},
   "outputs": [
    {
     "name": "stdout",
     "output_type": "stream",
     "text": [
      "Astrometry                     shape=(2, 6)\n",
      "Eclipse Timing Variations      shape=(9, 6)\n",
      "Imaging                        shape=(38, 6)\n",
      "Microlensing                   shape=(23, 6)\n",
      "Orbital Brightness Modulation  shape=(3, 6)\n",
      "Pulsar Timing                  shape=(5, 6)\n",
      "Pulsation Timing Variations    shape=(1, 6)\n",
      "Radial Velocity                shape=(553, 6)\n",
      "Transit                        shape=(397, 6)\n",
      "Transit Timing Variations      shape=(4, 6)\n"
     ]
    }
   ],
   "source": [
    "for (method, group) in planets.groupby('method'):\n",
    "    print(\"{0:30s} shape={1}\".format(method, group.shape))"
   ]
  },
  {
   "cell_type": "markdown",
   "id": "5c514296",
   "metadata": {},
   "source": [
    "`apply()` faster!"
   ]
  },
  {
   "cell_type": "code",
   "execution_count": 52,
   "id": "88c6964f",
   "metadata": {},
   "outputs": [
    {
     "data": {
      "text/html": [
       "<div>\n",
       "<style scoped>\n",
       "    .dataframe tbody tr th:only-of-type {\n",
       "        vertical-align: middle;\n",
       "    }\n",
       "\n",
       "    .dataframe tbody tr th {\n",
       "        vertical-align: top;\n",
       "    }\n",
       "\n",
       "    .dataframe thead th {\n",
       "        text-align: right;\n",
       "    }\n",
       "</style>\n",
       "<table border=\"1\" class=\"dataframe\">\n",
       "  <thead>\n",
       "    <tr style=\"text-align: right;\">\n",
       "      <th></th>\n",
       "      <th>count</th>\n",
       "      <th>mean</th>\n",
       "      <th>std</th>\n",
       "      <th>min</th>\n",
       "      <th>25%</th>\n",
       "      <th>50%</th>\n",
       "      <th>75%</th>\n",
       "      <th>max</th>\n",
       "    </tr>\n",
       "    <tr>\n",
       "      <th>method</th>\n",
       "      <th></th>\n",
       "      <th></th>\n",
       "      <th></th>\n",
       "      <th></th>\n",
       "      <th></th>\n",
       "      <th></th>\n",
       "      <th></th>\n",
       "      <th></th>\n",
       "    </tr>\n",
       "  </thead>\n",
       "  <tbody>\n",
       "    <tr>\n",
       "      <th>Astrometry</th>\n",
       "      <td>2.0</td>\n",
       "      <td>2011.500000</td>\n",
       "      <td>2.121320</td>\n",
       "      <td>2010.0</td>\n",
       "      <td>2010.75</td>\n",
       "      <td>2011.5</td>\n",
       "      <td>2012.25</td>\n",
       "      <td>2013.0</td>\n",
       "    </tr>\n",
       "    <tr>\n",
       "      <th>Eclipse Timing Variations</th>\n",
       "      <td>9.0</td>\n",
       "      <td>2010.000000</td>\n",
       "      <td>1.414214</td>\n",
       "      <td>2008.0</td>\n",
       "      <td>2009.00</td>\n",
       "      <td>2010.0</td>\n",
       "      <td>2011.00</td>\n",
       "      <td>2012.0</td>\n",
       "    </tr>\n",
       "    <tr>\n",
       "      <th>Imaging</th>\n",
       "      <td>38.0</td>\n",
       "      <td>2009.131579</td>\n",
       "      <td>2.781901</td>\n",
       "      <td>2004.0</td>\n",
       "      <td>2008.00</td>\n",
       "      <td>2009.0</td>\n",
       "      <td>2011.00</td>\n",
       "      <td>2013.0</td>\n",
       "    </tr>\n",
       "    <tr>\n",
       "      <th>Microlensing</th>\n",
       "      <td>23.0</td>\n",
       "      <td>2009.782609</td>\n",
       "      <td>2.859697</td>\n",
       "      <td>2004.0</td>\n",
       "      <td>2008.00</td>\n",
       "      <td>2010.0</td>\n",
       "      <td>2012.00</td>\n",
       "      <td>2013.0</td>\n",
       "    </tr>\n",
       "    <tr>\n",
       "      <th>Orbital Brightness Modulation</th>\n",
       "      <td>3.0</td>\n",
       "      <td>2011.666667</td>\n",
       "      <td>1.154701</td>\n",
       "      <td>2011.0</td>\n",
       "      <td>2011.00</td>\n",
       "      <td>2011.0</td>\n",
       "      <td>2012.00</td>\n",
       "      <td>2013.0</td>\n",
       "    </tr>\n",
       "    <tr>\n",
       "      <th>Pulsar Timing</th>\n",
       "      <td>5.0</td>\n",
       "      <td>1998.400000</td>\n",
       "      <td>8.384510</td>\n",
       "      <td>1992.0</td>\n",
       "      <td>1992.00</td>\n",
       "      <td>1994.0</td>\n",
       "      <td>2003.00</td>\n",
       "      <td>2011.0</td>\n",
       "    </tr>\n",
       "    <tr>\n",
       "      <th>Pulsation Timing Variations</th>\n",
       "      <td>1.0</td>\n",
       "      <td>2007.000000</td>\n",
       "      <td>NaN</td>\n",
       "      <td>2007.0</td>\n",
       "      <td>2007.00</td>\n",
       "      <td>2007.0</td>\n",
       "      <td>2007.00</td>\n",
       "      <td>2007.0</td>\n",
       "    </tr>\n",
       "    <tr>\n",
       "      <th>Radial Velocity</th>\n",
       "      <td>553.0</td>\n",
       "      <td>2007.518987</td>\n",
       "      <td>4.249052</td>\n",
       "      <td>1989.0</td>\n",
       "      <td>2005.00</td>\n",
       "      <td>2009.0</td>\n",
       "      <td>2011.00</td>\n",
       "      <td>2014.0</td>\n",
       "    </tr>\n",
       "    <tr>\n",
       "      <th>Transit</th>\n",
       "      <td>397.0</td>\n",
       "      <td>2011.236776</td>\n",
       "      <td>2.077867</td>\n",
       "      <td>2002.0</td>\n",
       "      <td>2010.00</td>\n",
       "      <td>2012.0</td>\n",
       "      <td>2013.00</td>\n",
       "      <td>2014.0</td>\n",
       "    </tr>\n",
       "    <tr>\n",
       "      <th>Transit Timing Variations</th>\n",
       "      <td>4.0</td>\n",
       "      <td>2012.500000</td>\n",
       "      <td>1.290994</td>\n",
       "      <td>2011.0</td>\n",
       "      <td>2011.75</td>\n",
       "      <td>2012.5</td>\n",
       "      <td>2013.25</td>\n",
       "      <td>2014.0</td>\n",
       "    </tr>\n",
       "  </tbody>\n",
       "</table>\n",
       "</div>"
      ],
      "text/plain": [
       "                               count         mean       std     min      25%  \\\n",
       "method                                                                         \n",
       "Astrometry                       2.0  2011.500000  2.121320  2010.0  2010.75   \n",
       "Eclipse Timing Variations        9.0  2010.000000  1.414214  2008.0  2009.00   \n",
       "Imaging                         38.0  2009.131579  2.781901  2004.0  2008.00   \n",
       "Microlensing                    23.0  2009.782609  2.859697  2004.0  2008.00   \n",
       "Orbital Brightness Modulation    3.0  2011.666667  1.154701  2011.0  2011.00   \n",
       "Pulsar Timing                    5.0  1998.400000  8.384510  1992.0  1992.00   \n",
       "Pulsation Timing Variations      1.0  2007.000000       NaN  2007.0  2007.00   \n",
       "Radial Velocity                553.0  2007.518987  4.249052  1989.0  2005.00   \n",
       "Transit                        397.0  2011.236776  2.077867  2002.0  2010.00   \n",
       "Transit Timing Variations        4.0  2012.500000  1.290994  2011.0  2011.75   \n",
       "\n",
       "                                  50%      75%     max  \n",
       "method                                                  \n",
       "Astrometry                     2011.5  2012.25  2013.0  \n",
       "Eclipse Timing Variations      2010.0  2011.00  2012.0  \n",
       "Imaging                        2009.0  2011.00  2013.0  \n",
       "Microlensing                   2010.0  2012.00  2013.0  \n",
       "Orbital Brightness Modulation  2011.0  2012.00  2013.0  \n",
       "Pulsar Timing                  1994.0  2003.00  2011.0  \n",
       "Pulsation Timing Variations    2007.0  2007.00  2007.0  \n",
       "Radial Velocity                2009.0  2011.00  2014.0  \n",
       "Transit                        2012.0  2013.00  2014.0  \n",
       "Transit Timing Variations      2012.5  2013.25  2014.0  "
      ]
     },
     "execution_count": 52,
     "metadata": {},
     "output_type": "execute_result"
    }
   ],
   "source": [
    "planets.groupby('method')['year'].describe()"
   ]
  },
  {
   "cell_type": "markdown",
   "id": "b6ae5bb9",
   "metadata": {},
   "source": [
    "Большинство планет было открыто методом измерения лучевой скорости и транзитным методом. Транзитный метод стал распростроненным благодаря новым точным телескопам только в последние десятилетия . Новейшие методы они 2011: метод вариации времени транзитов и метод модлуяции орбитальной яркости"
   ]
  },
  {
   "cell_type": "code",
   "execution_count": 62,
   "id": "66d127fe",
   "metadata": {},
   "outputs": [
    {
     "data": {
      "text/plain": [
       "0       2000s\n",
       "1       2000s\n",
       "2       2010s\n",
       "3       2000s\n",
       "4       2000s\n",
       "        ...  \n",
       "1030    2000s\n",
       "1031    2000s\n",
       "1032    2000s\n",
       "1033    2000s\n",
       "1034    2000s\n",
       "Name: year, Length: 1035, dtype: object"
      ]
     },
     "execution_count": 62,
     "metadata": {},
     "output_type": "execute_result"
    }
   ],
   "source": [
    "decade = 10 * (planets['year'] // 10)\n",
    "decade = decade.astype(str) + 's'\n",
    "decade"
   ]
  },
  {
   "cell_type": "code",
   "execution_count": 63,
   "id": "2c968a40",
   "metadata": {},
   "outputs": [
    {
     "data": {
      "text/plain": [
       "'year'"
      ]
     },
     "execution_count": 63,
     "metadata": {},
     "output_type": "execute_result"
    }
   ],
   "source": [
    "decade.name"
   ]
  },
  {
   "cell_type": "code",
   "execution_count": 69,
   "id": "cbf91e41",
   "metadata": {},
   "outputs": [
    {
     "data": {
      "text/html": [
       "<div>\n",
       "<style scoped>\n",
       "    .dataframe tbody tr th:only-of-type {\n",
       "        vertical-align: middle;\n",
       "    }\n",
       "\n",
       "    .dataframe tbody tr th {\n",
       "        vertical-align: top;\n",
       "    }\n",
       "\n",
       "    .dataframe thead th {\n",
       "        text-align: right;\n",
       "    }\n",
       "</style>\n",
       "<table border=\"1\" class=\"dataframe\">\n",
       "  <thead>\n",
       "    <tr style=\"text-align: right;\">\n",
       "      <th>decade</th>\n",
       "      <th>1980s</th>\n",
       "      <th>1990s</th>\n",
       "      <th>2000s</th>\n",
       "      <th>2010s</th>\n",
       "    </tr>\n",
       "    <tr>\n",
       "      <th>method</th>\n",
       "      <th></th>\n",
       "      <th></th>\n",
       "      <th></th>\n",
       "      <th></th>\n",
       "    </tr>\n",
       "  </thead>\n",
       "  <tbody>\n",
       "    <tr>\n",
       "      <th>Astrometry</th>\n",
       "      <td>0.0</td>\n",
       "      <td>0.0</td>\n",
       "      <td>0.0</td>\n",
       "      <td>2.0</td>\n",
       "    </tr>\n",
       "    <tr>\n",
       "      <th>Eclipse Timing Variations</th>\n",
       "      <td>0.0</td>\n",
       "      <td>0.0</td>\n",
       "      <td>5.0</td>\n",
       "      <td>10.0</td>\n",
       "    </tr>\n",
       "    <tr>\n",
       "      <th>Imaging</th>\n",
       "      <td>0.0</td>\n",
       "      <td>0.0</td>\n",
       "      <td>29.0</td>\n",
       "      <td>21.0</td>\n",
       "    </tr>\n",
       "    <tr>\n",
       "      <th>Microlensing</th>\n",
       "      <td>0.0</td>\n",
       "      <td>0.0</td>\n",
       "      <td>12.0</td>\n",
       "      <td>15.0</td>\n",
       "    </tr>\n",
       "    <tr>\n",
       "      <th>Orbital Brightness Modulation</th>\n",
       "      <td>0.0</td>\n",
       "      <td>0.0</td>\n",
       "      <td>0.0</td>\n",
       "      <td>5.0</td>\n",
       "    </tr>\n",
       "    <tr>\n",
       "      <th>Pulsar Timing</th>\n",
       "      <td>0.0</td>\n",
       "      <td>9.0</td>\n",
       "      <td>1.0</td>\n",
       "      <td>1.0</td>\n",
       "    </tr>\n",
       "    <tr>\n",
       "      <th>Pulsation Timing Variations</th>\n",
       "      <td>0.0</td>\n",
       "      <td>0.0</td>\n",
       "      <td>1.0</td>\n",
       "      <td>0.0</td>\n",
       "    </tr>\n",
       "    <tr>\n",
       "      <th>Radial Velocity</th>\n",
       "      <td>1.0</td>\n",
       "      <td>52.0</td>\n",
       "      <td>475.0</td>\n",
       "      <td>424.0</td>\n",
       "    </tr>\n",
       "    <tr>\n",
       "      <th>Transit</th>\n",
       "      <td>0.0</td>\n",
       "      <td>0.0</td>\n",
       "      <td>64.0</td>\n",
       "      <td>712.0</td>\n",
       "    </tr>\n",
       "    <tr>\n",
       "      <th>Transit Timing Variations</th>\n",
       "      <td>0.0</td>\n",
       "      <td>0.0</td>\n",
       "      <td>0.0</td>\n",
       "      <td>9.0</td>\n",
       "    </tr>\n",
       "  </tbody>\n",
       "</table>\n",
       "</div>"
      ],
      "text/plain": [
       "decade                         1980s  1990s  2000s  2010s\n",
       "method                                                   \n",
       "Astrometry                       0.0    0.0    0.0    2.0\n",
       "Eclipse Timing Variations        0.0    0.0    5.0   10.0\n",
       "Imaging                          0.0    0.0   29.0   21.0\n",
       "Microlensing                     0.0    0.0   12.0   15.0\n",
       "Orbital Brightness Modulation    0.0    0.0    0.0    5.0\n",
       "Pulsar Timing                    0.0    9.0    1.0    1.0\n",
       "Pulsation Timing Variations      0.0    0.0    1.0    0.0\n",
       "Radial Velocity                  1.0   52.0  475.0  424.0\n",
       "Transit                          0.0    0.0   64.0  712.0\n",
       "Transit Timing Variations        0.0    0.0    0.0    9.0"
      ]
     },
     "execution_count": 69,
     "metadata": {},
     "output_type": "execute_result"
    }
   ],
   "source": [
    "decade.name = 'decade'\n",
    "planets.groupby(['method', decade])['number'].sum().unstack().fillna(0)"
   ]
  }
 ],
 "metadata": {
  "kernelspec": {
   "display_name": "Python 3 (ipykernel)",
   "language": "python",
   "name": "python3"
  },
  "language_info": {
   "codemirror_mode": {
    "name": "ipython",
    "version": 3
   },
   "file_extension": ".py",
   "mimetype": "text/x-python",
   "name": "python",
   "nbconvert_exporter": "python",
   "pygments_lexer": "ipython3",
   "version": "3.9.13"
  }
 },
 "nbformat": 4,
 "nbformat_minor": 5
}
